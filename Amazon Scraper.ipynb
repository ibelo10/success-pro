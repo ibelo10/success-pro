{
 "cells": [
  {
   "cell_type": "code",
   "execution_count": 1,
   "id": "0ca71873",
   "metadata": {},
   "outputs": [],
   "source": [
    "# import libraries \n",
    "\n",
    "from bs4 import BeautifulSoup\n",
    "import requests\n",
    "import time\n",
    "import datetime\n",
    "import urllib.request\n",
    "import shutil\n",
    "import os\n",
    "\n",
    "\n",
    "import smtplib"
   ]
  },
  {
   "cell_type": "code",
   "execution_count": 25,
   "id": "ddb02874",
   "metadata": {},
   "outputs": [
    {
     "name": "stdout",
     "output_type": "stream",
     "text": [
      "MOOSLOVER Women One Shoulder High Waisted Bikini Tie High Cut Two Piece Swimsuits\n",
      "$19.20\n",
      "Polyester,Spandex    Tie closure    Material: Polyester+Spandex. One shoulder tie waist bikini set with double layer fabric, full lined, comfortable, soft and durable.    One Shoulder Bikini Top: One shoulder bandeau top with a bandage for self tie; Bandage wrap tie top; Removeable padded; Sexy crop top.    High Waisted Bikini Bottom: High waist swimsuit bottom with tummy control; Sexy high cut bikini bottom design.    Size: S=US(4-6)/ M=US(8-10)/ L=US(12-14)/ XL=US(16-18) , please check the detailed measurements in \"Product Description\" before you purchase.    The leopard swimwear is suitable for vacation, swimming, pool, beach, diving and hot summer party.\n",
      "[<div class=\"imgTagWrapper\" id=\"imgTagWrapperId\">\n",
      "<img alt=\"MOOSLOVER Women One Shoulder High Waisted Bikini Tie High Cut Two Piece Swimsuits\" class=\"a-dynamic-image\" data-a-dynamic-image='{\"https://m.media-amazon.com/images/I/61fPdttRfLL._AC_UX342_.jpg\":[428,342],\"https://m.media-amazon.com/images/I/61fPdttRfLL._AC_UX466_.jpg\":[583,466],\"https://m.media-amazon.com/images/I/61fPdttRfLL._AC_UX522_.jpg\":[653,522],\"https://m.media-amazon.com/images/I/61fPdttRfLL._AC_UX679_.jpg\":[849,679],\"https://m.media-amazon.com/images/I/61fPdttRfLL._AC_UX569_.jpg\":[711,569],\"https://m.media-amazon.com/images/I/61fPdttRfLL._AC_UX425_.jpg\":[531,425],\"https://m.media-amazon.com/images/I/61fPdttRfLL._AC_UX385_.jpg\":[481,385]}' data-a-image-name=\"landingImage\" data-old-hires=\"https://m.media-amazon.com/images/I/61fPdttRfLL._AC_UL1250_.jpg\" id=\"landingImage\" onload=\"markFeatureRenderForImageBlock(); if(this.width/this.height &gt; 0.77){this.className += ' a-stretch-horizontal'}else{this.className += ' a-stretch-vertical'};this.onload='';setCSMReq('af');if(typeof addlongPoleTag === 'function'){ addlongPoleTag('af','desktop-image-atf-marker');};setCSMReq('cf')\" src=\"https://images-na.ssl-images-amazon.com/images/I/61fPdttRfLL.__AC_SY445_SX342_QL70_ML2_.jpg\" style=\"max-width:679px;max-height:849px;\"/> </div>, <div class=\"imgTagWrapper\">\n",
      "<span class=\"placeHolder\"></span> </div>, <div class=\"imgTagWrapper\">\n",
      "<span class=\"placeHolder\"></span> </div>]\n"
     ]
    }
   ],
   "source": [
    "# Connect to Website and pull in data\n",
    "\n",
    "URL = 'https://www.amazon.com/MOOSLOVER-Shoulder-Waisted-Bikini-Swimsuits/dp/B09G9ZD7RM/?_encoding=UTF8&pd_rd_w=Epl9b&content-id=amzn1.sym.5fe95cd4-8512-42fa-bf21-63d83b898785&pf_rd_p=5fe95cd4-8512-42fa-bf21-63d83b898785&pf_rd_r=0Q6DF0V8KJZ9QKVMAJ9G&pd_rd_wg=acsqv&pd_rd_r=8af07069-7ad4-4072-99c2-c2bf9021664a&ref_=pd_gw_ci_mcx_mr_hp_atf_m'\n",
    "headers = {\"User-Agent\": \"Mozilla/5.0 (Windows NT 10.0; Win64; x64) AppleWebKit/537.36 (KHTML, like Gecko) Chrome/103.0.0.0 Safari/537.36\", \"Accept-Encoding\":\"gzip, deflate\", \"Accept\":\"text/html,application/xhtml+xml,application/xml;q=0.9,*/*;q=0.8\", \"DNT\":\"1\",\"Connection\":\"close\", \"Upgrade-Insecure-Requests\":\"1\"}\n",
    "\n",
    "page = requests.get(URL, headers=headers)\n",
    "\n",
    "soup1 = BeautifulSoup(page.content, \"lxml\")\n",
    "\n",
    "soup2 = BeautifulSoup(soup1.prettify(), \"lxml\")\n",
    "\n",
    "title = soup2.find(id='productTitle').text.strip()\n",
    "\n",
    "price = soup2.find('span', attrs={'class': 'a-price a-text-price a-size-medium apexPriceToPay'}).find('span', attrs={'class': 'a-offscreen'}).text.strip()\n",
    "\n",
    "content = soup1.find(id='feature-bullets').text.strip()\n",
    "\n",
    "images = soup1.find_all('div', class_='imgTagWrapper',)\n",
    "\n",
    "for image in images:\n",
    "    \n",
    "\n",
    "\n",
    "\n",
    "print(title)\n",
    "print(price)\n",
    "print(content)\n",
    "print(images)\n"
   ]
  },
  {
   "cell_type": "code",
   "execution_count": 24,
   "id": "fc6cc0a2",
   "metadata": {},
   "outputs": [
    {
     "name": "stdout",
     "output_type": "stream",
     "text": [
      "[]\n"
     ]
    }
   ],
   "source": [
    "for image in images:\n",
    "    print('im)"
   ]
  },
  {
   "cell_type": "code",
   "execution_count": null,
   "id": "87f10337",
   "metadata": {},
   "outputs": [],
   "source": [
    "  try:\n",
    "        script_text = data[0].text  # remove html tag\n",
    "        # use regex to pull out the relevant json string\n",
    "        json_str = re.search('{(.+)}', script_text)[0].replace(\"\\'\", '\"').replace(\"null\",\n",
    "                                                                                  '\"null\"')  # replace single quote ' to double quote \"\n",
    "        json_obj = json.loads(json_str)\n",
    "        images_url = []\n",
    "        for i in json_obj['initial']:\n",
    "            images_hires = i['hiRes']\n",
    "            images_large = i['large']\n",
    "            if images_hires is None:\n",
    "                images_url.append(images_large)\n",
    "            else:\n",
    "                images_url.append(images_hires)\n",
    "    except IndexError:\n",
    "        images_url = ''"
   ]
  },
  {
   "cell_type": "code",
   "execution_count": 7,
   "id": "94744b39",
   "metadata": {},
   "outputs": [
    {
     "name": "stdout",
     "output_type": "stream",
     "text": [
      "MOOSLOVER Women One Shoulder High Waisted Bikini Tie High Cut Two Piece Swimsuits\n",
      "19.20\n"
     ]
    }
   ],
   "source": [
    "# Clean up the data a little bit\n",
    "\n",
    "price = price.strip()[1:]\n",
    "title = title.strip()\n",
    "\n",
    "print(title)\n",
    "print(price)\n"
   ]
  },
  {
   "cell_type": "code",
   "execution_count": 26,
   "id": "b0c74a5e",
   "metadata": {},
   "outputs": [],
   "source": [
    "import csv \n",
    "\n",
    "header = ['Title', 'Price', 'Date']\n",
    "data = [title, price]\n",
    "\n",
    "\n",
    "with open('AmazonWebScraperDataset.csv', 'w', newline='', encoding='UTF8') as f:\n",
    "    writer = csv.writer(f)\n",
    "    writer.writerow(header)\n",
    "    writer.writerow(data)\n",
    "    "
   ]
  },
  {
   "cell_type": "code",
   "execution_count": 27,
   "id": "3558a812",
   "metadata": {},
   "outputs": [
    {
     "name": "stdout",
     "output_type": "stream",
     "text": [
      "                                               Title   Price  Date\n",
      "0  MOOSLOVER Women One Shoulder High Waisted Biki...  $19.20   NaN\n"
     ]
    }
   ],
   "source": [
    "import pandas as pd\n",
    "\n",
    "df = pd.read_csv(r'C:\\Users\\Aaron\\AmazonWebScraperDataset.csv')\n",
    "\n",
    "print(df)"
   ]
  },
  {
   "cell_type": "code",
   "execution_count": null,
   "id": "d298a4c4",
   "metadata": {},
   "outputs": [],
   "source": []
  }
 ],
 "metadata": {
  "kernelspec": {
   "display_name": "Python 3 (ipykernel)",
   "language": "python",
   "name": "python3"
  },
  "language_info": {
   "codemirror_mode": {
    "name": "ipython",
    "version": 3
   },
   "file_extension": ".py",
   "mimetype": "text/x-python",
   "name": "python",
   "nbconvert_exporter": "python",
   "pygments_lexer": "ipython3",
   "version": "3.9.12"
  }
 },
 "nbformat": 4,
 "nbformat_minor": 5
}
